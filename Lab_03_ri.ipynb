{
  "nbformat": 4,
  "nbformat_minor": 0,
  "metadata": {
    "colab": {
      "name": "Lab_03_ri.ipynb",
      "version": "0.3.2",
      "provenance": [],
      "collapsed_sections": [],
      "toc_visible": true
    },
    "kernelspec": {
      "name": "python3",
      "display_name": "Python 3"
    }
  },
  "cells": [
    {
      "metadata": {
        "id": "rOvQ5w68aWXe",
        "colab_type": "code",
        "outputId": "dc58f243-3a9e-43bf-a16b-a90edb899955",
        "colab": {
          "base_uri": "https://localhost:8080/",
          "height": 68
        }
      },
      "cell_type": "code",
      "source": [
        "import csv\n",
        "import pandas as pd\n",
        "import nltk\n",
        "import re\n",
        "import collections\n",
        "import matplotlib.pyplot as plt\n",
        "import seaborn as sns\n",
        "from nltk.tokenize import RegexpTokenizer\n",
        "from nltk.stem import PorterStemmer \n",
        "from nltk.tokenize import word_tokenize\n",
        "nltk.download('stopwords')"
      ],
      "execution_count": 19,
      "outputs": [
        {
          "output_type": "stream",
          "text": [
            "[nltk_data] Downloading package stopwords to /root/nltk_data...\n",
            "[nltk_data]   Package stopwords is already up-to-date!\n"
          ],
          "name": "stdout"
        },
        {
          "output_type": "execute_result",
          "data": {
            "text/plain": [
              "True"
            ]
          },
          "metadata": {
            "tags": []
          },
          "execution_count": 19
        }
      ]
    },
    {
      "metadata": {
        "id": "oXsOUqi9gv2i",
        "colab_type": "text"
      },
      "cell_type": "markdown",
      "source": [
        "# Laboratório 03: Tokenização e Stemming"
      ]
    },
    {
      "metadata": {
        "id": "91jQ9wYra7XL",
        "colab_type": "text"
      },
      "cell_type": "markdown",
      "source": [
        "# Questão 1"
      ]
    },
    {
      "metadata": {
        "id": "iMiXJOcTF294",
        "colab_type": "text"
      },
      "cell_type": "markdown",
      "source": [
        "Tendo em vista os dados coletados no laboratório 01, fiz uso do tokenizador disponível na biblioteca nltk, a partir do RegexpTokenizer, que suporta o uso de uma expressão regular para tokenizar as palavras. Houve também o tratamento de letras maiúsculas e minúsculas, além da retirada de palavras sem sentido através do conjunto 'stopwords' dentro da biblioteca nltk."
      ]
    },
    {
      "metadata": {
        "id": "-XR_GmKbdurz",
        "colab_type": "code",
        "colab": {}
      },
      "cell_type": "code",
      "source": [
        "colecao = pd.read_csv('https://raw.githubusercontent.com/LDVictor/ri_lab_01/master/output/results.csv')\n",
        "colecao = colecao.astype(str)"
      ],
      "execution_count": 0,
      "outputs": []
    },
    {
      "metadata": {
        "id": "CNbX9w5FcmMT",
        "colab_type": "code",
        "outputId": "75d49813-838d-4337-de7b-0c7897ca8532",
        "colab": {
          "base_uri": "https://localhost:8080/",
          "height": 51
        }
      },
      "cell_type": "code",
      "source": [
        "palavras = []\n",
        "palavras_filtradas = []\n",
        "\n",
        "tokenizador = RegexpTokenizer(r'([A-Za-zÁáÉéÍíÓóÚúÃãÕõÇçÂâÊê]{3,27})')\n",
        "stpw = nltk.corpus.stopwords.words('portuguese')\n",
        "\n",
        "for texto in colecao.texto:\n",
        "  plvrs = [palavra for palavra in tokenizador.tokenize(texto.lower())\n",
        "           if len(palavra) >= 3 and not bool(re.search(r'\\d', palavra))]\n",
        "  palavras.extend(plvrs)\n",
        "  \n",
        "for palavra in palavras:\n",
        "  if palavra not in stpw:\n",
        "    palavras_filtradas.append(palavra)\n",
        "    \n",
        "qte_palavras = len(palavras)\n",
        "qte_palavras_filtradas = len(palavras_filtradas)\n",
        "  \n",
        "print(\"Sem filtragem =\", qte_palavras)\n",
        "print(\"Com filtragem =\", qte_palavras_filtradas)"
      ],
      "execution_count": 21,
      "outputs": [
        {
          "output_type": "stream",
          "text": [
            "Sem filtragem = 107188\n",
            "Com filtragem = 83618\n"
          ],
          "name": "stdout"
        }
      ]
    },
    {
      "metadata": {
        "id": "icT7C8oqgzpL",
        "colab_type": "text"
      },
      "cell_type": "markdown",
      "source": [
        "# Questão 2"
      ]
    },
    {
      "metadata": {
        "id": "Et23Gbhxg3Gz",
        "colab_type": "code",
        "outputId": "1b983a73-44be-4cfa-b37a-c433be20e88a",
        "colab": {
          "base_uri": "https://localhost:8080/",
          "height": 1599
        }
      },
      "cell_type": "code",
      "source": [
        "freq_ocorrencias = collections.Counter(palavras_filtradas)\n",
        "total_palavras = len(palavras_filtradas)\n",
        "\n",
        "rank50 = sorted(freq_ocorrencias.items(), key=lambda x: x[1], reverse=True)\n",
        "ranking = 1\n",
        "\n",
        "tabela_q2 = pd.DataFrame(columns=['Palavra', 'Frequencia', 'r', 'Pr(%)', 'r.Pr'])\n",
        "tabela_q2['Palavra'] = [palavra[0] for palavra in rank50]\n",
        "tabela_q2['Frequencia'] = [palavra[1] for palavra in rank50]\n",
        "tabela_q2['r'] = [r+1 for r in range(0, len(rank50))]\n",
        "tabela_q2['Pr(%)'] = [round((palavra[1] / total_palavras)*100, 2) for palavra in rank50]\n",
        "tabela_q2['r.Pr'] = round((tabela_q2['Pr(%)']/100)*tabela_q2['r'], 3)\n",
        "\n",
        "tabela_q2.head(50)"
      ],
      "execution_count": 22,
      "outputs": [
        {
          "output_type": "execute_result",
          "data": {
            "text/html": [
              "<div>\n",
              "<style scoped>\n",
              "    .dataframe tbody tr th:only-of-type {\n",
              "        vertical-align: middle;\n",
              "    }\n",
              "\n",
              "    .dataframe tbody tr th {\n",
              "        vertical-align: top;\n",
              "    }\n",
              "\n",
              "    .dataframe thead th {\n",
              "        text-align: right;\n",
              "    }\n",
              "</style>\n",
              "<table border=\"1\" class=\"dataframe\">\n",
              "  <thead>\n",
              "    <tr style=\"text-align: right;\">\n",
              "      <th></th>\n",
              "      <th>Palavra</th>\n",
              "      <th>Frequencia</th>\n",
              "      <th>r</th>\n",
              "      <th>Pr(%)</th>\n",
              "      <th>r.Pr</th>\n",
              "    </tr>\n",
              "  </thead>\n",
              "  <tbody>\n",
              "    <tr>\n",
              "      <th>0</th>\n",
              "      <td>presidente</td>\n",
              "      <td>480</td>\n",
              "      <td>1</td>\n",
              "      <td>0.57</td>\n",
              "      <td>0.006</td>\n",
              "    </tr>\n",
              "    <tr>\n",
              "      <th>1</th>\n",
              "      <td>bolsonaro</td>\n",
              "      <td>464</td>\n",
              "      <td>2</td>\n",
              "      <td>0.55</td>\n",
              "      <td>0.011</td>\n",
              "    </tr>\n",
              "    <tr>\n",
              "      <th>2</th>\n",
              "      <td>governo</td>\n",
              "      <td>448</td>\n",
              "      <td>3</td>\n",
              "      <td>0.54</td>\n",
              "      <td>0.016</td>\n",
              "    </tr>\n",
              "    <tr>\n",
              "      <th>3</th>\n",
              "      <td>anos</td>\n",
              "      <td>423</td>\n",
              "      <td>4</td>\n",
              "      <td>0.51</td>\n",
              "      <td>0.020</td>\n",
              "    </tr>\n",
              "    <tr>\n",
              "      <th>4</th>\n",
              "      <td>ser</td>\n",
              "      <td>361</td>\n",
              "      <td>5</td>\n",
              "      <td>0.43</td>\n",
              "      <td>0.022</td>\n",
              "    </tr>\n",
              "    <tr>\n",
              "      <th>5</th>\n",
              "      <td>país</td>\n",
              "      <td>352</td>\n",
              "      <td>6</td>\n",
              "      <td>0.42</td>\n",
              "      <td>0.025</td>\n",
              "    </tr>\n",
              "    <tr>\n",
              "      <th>6</th>\n",
              "      <td>sobre</td>\n",
              "      <td>327</td>\n",
              "      <td>7</td>\n",
              "      <td>0.39</td>\n",
              "      <td>0.027</td>\n",
              "    </tr>\n",
              "    <tr>\n",
              "      <th>7</th>\n",
              "      <td>brasil</td>\n",
              "      <td>306</td>\n",
              "      <td>8</td>\n",
              "      <td>0.37</td>\n",
              "      <td>0.030</td>\n",
              "    </tr>\n",
              "    <tr>\n",
              "      <th>8</th>\n",
              "      <td>ainda</td>\n",
              "      <td>267</td>\n",
              "      <td>9</td>\n",
              "      <td>0.32</td>\n",
              "      <td>0.029</td>\n",
              "    </tr>\n",
              "    <tr>\n",
              "      <th>9</th>\n",
              "      <td>contra</td>\n",
              "      <td>266</td>\n",
              "      <td>10</td>\n",
              "      <td>0.32</td>\n",
              "      <td>0.032</td>\n",
              "    </tr>\n",
              "    <tr>\n",
              "      <th>10</th>\n",
              "      <td>disse</td>\n",
              "      <td>260</td>\n",
              "      <td>11</td>\n",
              "      <td>0.31</td>\n",
              "      <td>0.034</td>\n",
              "    </tr>\n",
              "    <tr>\n",
              "      <th>11</th>\n",
              "      <td>caso</td>\n",
              "      <td>219</td>\n",
              "      <td>12</td>\n",
              "      <td>0.26</td>\n",
              "      <td>0.031</td>\n",
              "    </tr>\n",
              "    <tr>\n",
              "      <th>12</th>\n",
              "      <td>segundo</td>\n",
              "      <td>215</td>\n",
              "      <td>13</td>\n",
              "      <td>0.26</td>\n",
              "      <td>0.034</td>\n",
              "    </tr>\n",
              "    <tr>\n",
              "      <th>13</th>\n",
              "      <td>ter</td>\n",
              "      <td>211</td>\n",
              "      <td>14</td>\n",
              "      <td>0.25</td>\n",
              "      <td>0.035</td>\n",
              "    </tr>\n",
              "    <tr>\n",
              "      <th>14</th>\n",
              "      <td>pessoas</td>\n",
              "      <td>210</td>\n",
              "      <td>15</td>\n",
              "      <td>0.25</td>\n",
              "      <td>0.038</td>\n",
              "    </tr>\n",
              "    <tr>\n",
              "      <th>15</th>\n",
              "      <td>ministro</td>\n",
              "      <td>183</td>\n",
              "      <td>16</td>\n",
              "      <td>0.22</td>\n",
              "      <td>0.035</td>\n",
              "    </tr>\n",
              "    <tr>\n",
              "      <th>16</th>\n",
              "      <td>pode</td>\n",
              "      <td>163</td>\n",
              "      <td>17</td>\n",
              "      <td>0.19</td>\n",
              "      <td>0.032</td>\n",
              "    </tr>\n",
              "    <tr>\n",
              "      <th>17</th>\n",
              "      <td>trump</td>\n",
              "      <td>162</td>\n",
              "      <td>18</td>\n",
              "      <td>0.19</td>\n",
              "      <td>0.034</td>\n",
              "    </tr>\n",
              "    <tr>\n",
              "      <th>18</th>\n",
              "      <td>dia</td>\n",
              "      <td>161</td>\n",
              "      <td>19</td>\n",
              "      <td>0.19</td>\n",
              "      <td>0.036</td>\n",
              "    </tr>\n",
              "    <tr>\n",
              "      <th>19</th>\n",
              "      <td>afirmou</td>\n",
              "      <td>160</td>\n",
              "      <td>20</td>\n",
              "      <td>0.19</td>\n",
              "      <td>0.038</td>\n",
              "    </tr>\n",
              "    <tr>\n",
              "      <th>20</th>\n",
              "      <td>ano</td>\n",
              "      <td>159</td>\n",
              "      <td>21</td>\n",
              "      <td>0.19</td>\n",
              "      <td>0.040</td>\n",
              "    </tr>\n",
              "    <tr>\n",
              "      <th>21</th>\n",
              "      <td>feira</td>\n",
              "      <td>159</td>\n",
              "      <td>22</td>\n",
              "      <td>0.19</td>\n",
              "      <td>0.042</td>\n",
              "    </tr>\n",
              "    <tr>\n",
              "      <th>22</th>\n",
              "      <td>política</td>\n",
              "      <td>152</td>\n",
              "      <td>23</td>\n",
              "      <td>0.18</td>\n",
              "      <td>0.041</td>\n",
              "    </tr>\n",
              "    <tr>\n",
              "      <th>23</th>\n",
              "      <td>federal</td>\n",
              "      <td>151</td>\n",
              "      <td>24</td>\n",
              "      <td>0.18</td>\n",
              "      <td>0.043</td>\n",
              "    </tr>\n",
              "    <tr>\n",
              "      <th>24</th>\n",
              "      <td>vai</td>\n",
              "      <td>149</td>\n",
              "      <td>25</td>\n",
              "      <td>0.18</td>\n",
              "      <td>0.045</td>\n",
              "    </tr>\n",
              "    <tr>\n",
              "      <th>25</th>\n",
              "      <td>justiça</td>\n",
              "      <td>147</td>\n",
              "      <td>26</td>\n",
              "      <td>0.18</td>\n",
              "      <td>0.047</td>\n",
              "    </tr>\n",
              "    <tr>\n",
              "      <th>26</th>\n",
              "      <td>desde</td>\n",
              "      <td>146</td>\n",
              "      <td>27</td>\n",
              "      <td>0.17</td>\n",
              "      <td>0.046</td>\n",
              "    </tr>\n",
              "    <tr>\n",
              "      <th>27</th>\n",
              "      <td>outros</td>\n",
              "      <td>141</td>\n",
              "      <td>28</td>\n",
              "      <td>0.17</td>\n",
              "      <td>0.048</td>\n",
              "    </tr>\n",
              "    <tr>\n",
              "      <th>28</th>\n",
              "      <td>estado</td>\n",
              "      <td>136</td>\n",
              "      <td>29</td>\n",
              "      <td>0.16</td>\n",
              "      <td>0.046</td>\n",
              "    </tr>\n",
              "    <tr>\n",
              "      <th>29</th>\n",
              "      <td>acordo</td>\n",
              "      <td>136</td>\n",
              "      <td>30</td>\n",
              "      <td>0.16</td>\n",
              "      <td>0.048</td>\n",
              "    </tr>\n",
              "    <tr>\n",
              "      <th>30</th>\n",
              "      <td>agora</td>\n",
              "      <td>134</td>\n",
              "      <td>31</td>\n",
              "      <td>0.16</td>\n",
              "      <td>0.050</td>\n",
              "    </tr>\n",
              "    <tr>\n",
              "      <th>31</th>\n",
              "      <td>venezuela</td>\n",
              "      <td>133</td>\n",
              "      <td>32</td>\n",
              "      <td>0.16</td>\n",
              "      <td>0.051</td>\n",
              "    </tr>\n",
              "    <tr>\n",
              "      <th>32</th>\n",
              "      <td>nacional</td>\n",
              "      <td>131</td>\n",
              "      <td>33</td>\n",
              "      <td>0.16</td>\n",
              "      <td>0.053</td>\n",
              "    </tr>\n",
              "    <tr>\n",
              "      <th>33</th>\n",
              "      <td>parte</td>\n",
              "      <td>131</td>\n",
              "      <td>34</td>\n",
              "      <td>0.16</td>\n",
              "      <td>0.054</td>\n",
              "    </tr>\n",
              "    <tr>\n",
              "      <th>34</th>\n",
              "      <td>diz</td>\n",
              "      <td>129</td>\n",
              "      <td>35</td>\n",
              "      <td>0.15</td>\n",
              "      <td>0.052</td>\n",
              "    </tr>\n",
              "    <tr>\n",
              "      <th>35</th>\n",
              "      <td>reforma</td>\n",
              "      <td>128</td>\n",
              "      <td>36</td>\n",
              "      <td>0.15</td>\n",
              "      <td>0.054</td>\n",
              "    </tr>\n",
              "    <tr>\n",
              "      <th>36</th>\n",
              "      <td>após</td>\n",
              "      <td>127</td>\n",
              "      <td>37</td>\n",
              "      <td>0.15</td>\n",
              "      <td>0.056</td>\n",
              "    </tr>\n",
              "    <tr>\n",
              "      <th>37</th>\n",
              "      <td>durante</td>\n",
              "      <td>127</td>\n",
              "      <td>38</td>\n",
              "      <td>0.15</td>\n",
              "      <td>0.057</td>\n",
              "    </tr>\n",
              "    <tr>\n",
              "      <th>38</th>\n",
              "      <td>países</td>\n",
              "      <td>124</td>\n",
              "      <td>39</td>\n",
              "      <td>0.15</td>\n",
              "      <td>0.058</td>\n",
              "    </tr>\n",
              "    <tr>\n",
              "      <th>39</th>\n",
              "      <td>além</td>\n",
              "      <td>124</td>\n",
              "      <td>40</td>\n",
              "      <td>0.15</td>\n",
              "      <td>0.060</td>\n",
              "    </tr>\n",
              "    <tr>\n",
              "      <th>40</th>\n",
              "      <td>dois</td>\n",
              "      <td>124</td>\n",
              "      <td>41</td>\n",
              "      <td>0.15</td>\n",
              "      <td>0.062</td>\n",
              "    </tr>\n",
              "    <tr>\n",
              "      <th>41</th>\n",
              "      <td>menos</td>\n",
              "      <td>122</td>\n",
              "      <td>42</td>\n",
              "      <td>0.15</td>\n",
              "      <td>0.063</td>\n",
              "    </tr>\n",
              "    <tr>\n",
              "      <th>42</th>\n",
              "      <td>deputado</td>\n",
              "      <td>121</td>\n",
              "      <td>43</td>\n",
              "      <td>0.14</td>\n",
              "      <td>0.060</td>\n",
              "    </tr>\n",
              "    <tr>\n",
              "      <th>43</th>\n",
              "      <td>grande</td>\n",
              "      <td>121</td>\n",
              "      <td>44</td>\n",
              "      <td>0.14</td>\n",
              "      <td>0.062</td>\n",
              "    </tr>\n",
              "    <tr>\n",
              "      <th>44</th>\n",
              "      <td>mil</td>\n",
              "      <td>120</td>\n",
              "      <td>45</td>\n",
              "      <td>0.14</td>\n",
              "      <td>0.063</td>\n",
              "    </tr>\n",
              "    <tr>\n",
              "      <th>45</th>\n",
              "      <td>todos</td>\n",
              "      <td>119</td>\n",
              "      <td>46</td>\n",
              "      <td>0.14</td>\n",
              "      <td>0.064</td>\n",
              "    </tr>\n",
              "    <tr>\n",
              "      <th>46</th>\n",
              "      <td>lula</td>\n",
              "      <td>118</td>\n",
              "      <td>47</td>\n",
              "      <td>0.14</td>\n",
              "      <td>0.066</td>\n",
              "    </tr>\n",
              "    <tr>\n",
              "      <th>47</th>\n",
              "      <td>vez</td>\n",
              "      <td>118</td>\n",
              "      <td>48</td>\n",
              "      <td>0.14</td>\n",
              "      <td>0.067</td>\n",
              "    </tr>\n",
              "    <tr>\n",
              "      <th>48</th>\n",
              "      <td>público</td>\n",
              "      <td>115</td>\n",
              "      <td>49</td>\n",
              "      <td>0.14</td>\n",
              "      <td>0.069</td>\n",
              "    </tr>\n",
              "    <tr>\n",
              "      <th>49</th>\n",
              "      <td>maduro</td>\n",
              "      <td>114</td>\n",
              "      <td>50</td>\n",
              "      <td>0.14</td>\n",
              "      <td>0.070</td>\n",
              "    </tr>\n",
              "  </tbody>\n",
              "</table>\n",
              "</div>"
            ],
            "text/plain": [
              "       Palavra  Frequencia   r  Pr(%)   r.Pr\n",
              "0   presidente         480   1   0.57  0.006\n",
              "1    bolsonaro         464   2   0.55  0.011\n",
              "2      governo         448   3   0.54  0.016\n",
              "3         anos         423   4   0.51  0.020\n",
              "4          ser         361   5   0.43  0.022\n",
              "5         país         352   6   0.42  0.025\n",
              "6        sobre         327   7   0.39  0.027\n",
              "7       brasil         306   8   0.37  0.030\n",
              "8        ainda         267   9   0.32  0.029\n",
              "9       contra         266  10   0.32  0.032\n",
              "10       disse         260  11   0.31  0.034\n",
              "11        caso         219  12   0.26  0.031\n",
              "12     segundo         215  13   0.26  0.034\n",
              "13         ter         211  14   0.25  0.035\n",
              "14     pessoas         210  15   0.25  0.038\n",
              "15    ministro         183  16   0.22  0.035\n",
              "16        pode         163  17   0.19  0.032\n",
              "17       trump         162  18   0.19  0.034\n",
              "18         dia         161  19   0.19  0.036\n",
              "19     afirmou         160  20   0.19  0.038\n",
              "20         ano         159  21   0.19  0.040\n",
              "21       feira         159  22   0.19  0.042\n",
              "22    política         152  23   0.18  0.041\n",
              "23     federal         151  24   0.18  0.043\n",
              "24         vai         149  25   0.18  0.045\n",
              "25     justiça         147  26   0.18  0.047\n",
              "26       desde         146  27   0.17  0.046\n",
              "27      outros         141  28   0.17  0.048\n",
              "28      estado         136  29   0.16  0.046\n",
              "29      acordo         136  30   0.16  0.048\n",
              "30       agora         134  31   0.16  0.050\n",
              "31   venezuela         133  32   0.16  0.051\n",
              "32    nacional         131  33   0.16  0.053\n",
              "33       parte         131  34   0.16  0.054\n",
              "34         diz         129  35   0.15  0.052\n",
              "35     reforma         128  36   0.15  0.054\n",
              "36        após         127  37   0.15  0.056\n",
              "37     durante         127  38   0.15  0.057\n",
              "38      países         124  39   0.15  0.058\n",
              "39        além         124  40   0.15  0.060\n",
              "40        dois         124  41   0.15  0.062\n",
              "41       menos         122  42   0.15  0.063\n",
              "42    deputado         121  43   0.14  0.060\n",
              "43      grande         121  44   0.14  0.062\n",
              "44         mil         120  45   0.14  0.063\n",
              "45       todos         119  46   0.14  0.064\n",
              "46        lula         118  47   0.14  0.066\n",
              "47         vez         118  48   0.14  0.067\n",
              "48     público         115  49   0.14  0.069\n",
              "49      maduro         114  50   0.14  0.070"
            ]
          },
          "metadata": {
            "tags": []
          },
          "execution_count": 22
        }
      ]
    },
    {
      "metadata": {
        "id": "F7U3EDIMh0JC",
        "colab_type": "text"
      },
      "cell_type": "markdown",
      "source": [
        "# Questão 3"
      ]
    },
    {
      "metadata": {
        "id": "0SDtsN80h2MA",
        "colab_type": "code",
        "outputId": "9b0818e4-fc18-41ff-9a0b-7962caef6953",
        "colab": {
          "base_uri": "https://localhost:8080/",
          "height": 51
        }
      },
      "cell_type": "code",
      "source": [
        "palavras_stemmadas = []\n",
        "stemming = nltk.stem.SnowballStemmer('portuguese')\n",
        "\n",
        "for palavra in palavras_filtradas:\n",
        "  p = stemming.stem(palavra)\n",
        "  palavras_stemmadas.append(p)\n",
        "  \n",
        "set_stemming = (sorted(set(palavras_stemmadas)))\n",
        "set_normal = (sorted(set(palavras)))\n",
        "\n",
        "print (\"Tamanho do vocabulário sem stemming =\", len(set_normal))\n",
        "print (\"Tamanho do vocabulário com stemming =\", len(set_stemming))"
      ],
      "execution_count": 24,
      "outputs": [
        {
          "output_type": "stream",
          "text": [
            "Tamanho do vocabulário sem stemming = 15977\n",
            "Tamanho do vocabulário com stemming = 8395\n"
          ],
          "name": "stdout"
        }
      ]
    },
    {
      "metadata": {
        "id": "hwtikPgUQlCj",
        "colab_type": "code",
        "colab": {}
      },
      "cell_type": "code",
      "source": [
        ""
      ],
      "execution_count": 0,
      "outputs": []
    },
    {
      "metadata": {
        "id": "3B1zggXNImHm",
        "colab_type": "text"
      },
      "cell_type": "markdown",
      "source": [
        "Falsos positivos: \n",
        "\n",
        "*   abram - abrangem -> abra\n",
        "*   quarto - quartéis -> quart\n",
        "*   estimou - estimula -> estim\n",
        "*   sala - sal -> sal\n",
        "*   fogo - fogem -> fog\n",
        "*   maia - maio -> mai\n",
        "*   falar - falir -> fal\n",
        "*   lei - leia -> lei\n",
        "*   ter - terça - terço -> ter\n",
        "*   cano - canal -> can\n",
        "\n",
        "Falsos negativos: \n",
        "\n",
        "*   acolh - acolhedor\n",
        "*   correçã - correçõ\n",
        "*   infant - infantil\n",
        "*   infecc - infecçã\n",
        "*   pso - psol\n",
        "*   publicitár - publicitári\n",
        "*   neutr - neutral\n",
        "*   municip - municipal\n",
        "*   institucional - institucionaliz\n",
        "*   inform - informal\n",
        "\n",
        "Ao realizar as consultas, os erros de overstemming (falso positivo) e understemming (falso negativo) irão gerar resultados não esperados em algumas consultas que usem palavras-chave que se encaixam nesses casos. Por exemplo, ao consultar a palavra \"maia\", em busca de pessoas com o sobrenome Maia, haveria resultados relacionados ao mês de maio por conta do falso positivo mostrado acima.\n"
      ]
    },
    {
      "metadata": {
        "id": "uiaNekQGkSRb",
        "colab_type": "text"
      },
      "cell_type": "markdown",
      "source": [
        "# Questão 4"
      ]
    },
    {
      "metadata": {
        "id": "mtHbT2WUkWqb",
        "colab_type": "code",
        "colab": {}
      },
      "cell_type": "code",
      "source": [
        "freq_ocorrencias_q4 = collections.Counter(palavras_stemmadas)\n",
        "total_palavras_q4 = len(palavras_stemmadas)\n",
        "\n",
        "rank50 = sorted(freq_ocorrencias_q4.items(), key=lambda x: x[1], reverse=True)\n",
        "ranking = 1\n",
        "\n",
        "tabela_q4 = pd.DataFrame(columns=['Palavra', 'Frequencia', 'r', 'Pr(%)', 'r.Pr'])\n",
        "tabela_q4['Palavra'] = [palavra[0] for palavra in rank50]\n",
        "tabela_q4['Frequencia'] = [palavra[1] for palavra in rank50]\n",
        "tabela_q4['r'] = [r+1 for r in range(0, len(rank50))]\n",
        "tabela_q4['Pr(%)'] = [round((palavra[1] / total_palavras_q4)*100, 2) for palavra in rank50]\n",
        "tabela_q4['r.Pr'] = round((tabela_q4['Pr(%)']/100)*tabela_q4['r'], 3)"
      ],
      "execution_count": 0,
      "outputs": []
    },
    {
      "metadata": {
        "id": "lCXKk8HOlILB",
        "colab_type": "code",
        "outputId": "4c289999-d774-43b0-e851-9a18f5f05bfe",
        "colab": {
          "base_uri": "https://localhost:8080/",
          "height": 467
        }
      },
      "cell_type": "code",
      "source": [
        "f, ax = plt.subplots(figsize=(7, 7))\n",
        "ax.set(xscale=\"log\", yscale=\"log\")\n",
        "sns.regplot(\"r\", \"Frequencia\", tabela_q4, ax=ax, marker=\"+\", scatter_kws={\"s\": 100})"
      ],
      "execution_count": 26,
      "outputs": [
        {
          "output_type": "execute_result",
          "data": {
            "text/plain": [
              "<matplotlib.axes._subplots.AxesSubplot at 0x7f610f46fa58>"
            ]
          },
          "metadata": {
            "tags": []
          },
          "execution_count": 26
        },
        {
          "output_type": "display_data",
          "data": {
            "image/png": "[encoded data removed]",
            "text/plain": [
              "<Figure size 504x504 with 1 Axes>"
            ]
          },
          "metadata": {
            "tags": []
          }
        }
      ]
    },
    {
      "metadata": {
        "id": "7l_eB2m_WA2H",
        "colab_type": "text"
      },
      "cell_type": "markdown",
      "source": [
        "Comparando esse gráfico com o do laboratório anterior, é perceptível uma certa linearidade na disposição de como os tokens estão apresentados. Este fato pode ser explicado devido a maior concentração da informação, já que agora há o agrupamento de palavras a partir de seus radicais via stemming."
      ]
    },
    {
      "metadata": {
        "id": "LonhP70Elq_r",
        "colab_type": "code",
        "outputId": "1db1aab9-9495-4605-933f-084245f665b6",
        "colab": {
          "base_uri": "https://localhost:8080/",
          "height": 467
        }
      },
      "cell_type": "code",
      "source": [
        "bigrams = []\n",
        "bigrams = nltk.bigrams(palavras_stemmadas)\n",
        "frequencia_bigrams = nltk.FreqDist(bigrams)\n",
        "\n",
        "dados_q4 = pd.DataFrame(frequencia_bigrams.most_common(), columns=['word', 'freq'])\n",
        "dados_q4['r'] = dados_q4['freq'].rank(ascending=False)\n",
        "\n",
        "f, ax = plt.subplots(figsize=(7, 7))\n",
        "ax.set(xscale=\"log\", yscale=\"log\")\n",
        "sns.regplot(\"r\", \"freq\", dados_q4, ax=ax, marker=\"+\", scatter_kws={\"s\": 100})"
      ],
      "execution_count": 27,
      "outputs": [
        {
          "output_type": "execute_result",
          "data": {
            "text/plain": [
              "<matplotlib.axes._subplots.AxesSubplot at 0x7f610c4975f8>"
            ]
          },
          "metadata": {
            "tags": []
          },
          "execution_count": 27
        },
        {
          "output_type": "display_data",
          "data": {
            "image/png": "[encoded data removed]",
            "text/plain": [
              "<Figure size 504x504 with 1 Axes>"
            ]
          },
          "metadata": {
            "tags": []
          }
        }
      ]
    },
    {
      "metadata": {
        "id": "oOhQ2oamXA1-",
        "colab_type": "text"
      },
      "cell_type": "markdown",
      "source": [
        "Já neste segundo gráfico, mesmo comparando o mesmo com o gráfico do laboratório anterior, não é possível notar uma grande diferença na disposição dos tokens nele, apenas uma diminuição na quantidade de elementos representados."
      ]
    }
  ]
}